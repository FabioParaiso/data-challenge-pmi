{
 "cells": [
  {
   "cell_type": "markdown",
   "metadata": {},
   "source": [
    "#### Question 1\n",
    "\n",
    "1. To calculate the potential for yearly reduction on CO2 emissions, caused by the taxi cabs roaming without passengers. In your calculation please assume that the taxi cab fleet is changing at the rate of 15% per month (from combustion engine-powered vehicles to electric vehicles). Assume also that the average passenger vehicle emits about 404 grams of CO2 per mile.\n",
    "\n",
    "Assumptions:\n",
    "   * The question refers that the reduction should be focused on the roaming without passengers, so I will assume we are speaking of tank-to-wheel emissions. For this reason I'll assume that eletric cabs have 0 emissions. \n",
    "   * Assume the reduction calculation is for the 537 fleet cabs.\n",
    "   * I assume that the given time frame is representative of the whole year. A big if, but due to the lack of information is the best aproximation that can be done.\n",
    "   * Movements between locations are made in a straight line.\n",
    "   * I assume that we are at the begining of 2020."
   ]
  },
  {
   "cell_type": "code",
   "execution_count": 2,
   "metadata": {},
   "outputs": [],
   "source": [
    "import seaborn as sns\n",
    "import matplotlib.pyplot as plt\n",
    "from sklearn.ensemble import IsolationForest\n",
    "from scipy.stats import kurtosis, skew\n",
    "import os\n",
    "import sys\n",
    "import pandas as pd"
   ]
  },
  {
   "cell_type": "code",
   "execution_count": 3,
   "metadata": {},
   "outputs": [],
   "source": [
    "# setting src folder as a package\n",
    "src_dir = os.path.join(os.getcwd(), '..', 'src')\n",
    "sys.path.append(src_dir)"
   ]
  },
  {
   "cell_type": "code",
   "execution_count": 4,
   "metadata": {},
   "outputs": [],
   "source": [
    "from d03_processing.q1 import (get_roaming_distance_mean_per_weekday, \n",
    "                               get_year_days_df,\n",
    "                               _select_columns, \n",
    "                               _select_vacant, \n",
    "                               _add_day, \n",
    "                               _add_weekday, \n",
    "                               _get_total_roaming_distance_per_day_and_cab,\n",
    "                               get_internal_combustion_cabs_per_month,\n",
    "                               get_annual_co2_emissions,\n",
    "                               _get_roaming_distance_per_weekday_metrics\n",
    "                              )"
   ]
  },
  {
   "cell_type": "markdown",
   "metadata": {},
   "source": [
    "# Results"
   ]
  },
  {
   "cell_type": "markdown",
   "metadata": {},
   "source": [
    "#### Load data"
   ]
  },
  {
   "cell_type": "code",
   "execution_count": 5,
   "metadata": {},
   "outputs": [],
   "source": [
    "# load final data\n",
    "file_name = '../data/03_processed/cab_data_wo_outliers_velocity_method.parquet'\n",
    "cab_data = pd.read_parquet(file_name)"
   ]
  },
  {
   "cell_type": "markdown",
   "metadata": {},
   "source": [
    "#### Get roaming distance per weekday"
   ]
  },
  {
   "cell_type": "code",
   "execution_count": 5,
   "metadata": {},
   "outputs": [
    {
     "name": "stderr",
     "output_type": "stream",
     "text": [
      "2021-01-24 00:29:40,761 - INFO - wrapper - _select_columns took 0:00:00.198999 shape=(11086377, 4) null_values=0)\n",
      "2021-01-24 00:29:41,454 - INFO - wrapper - _select_vacant took 0:00:00.491516 shape=(6136480, 3) null_values=0)\n",
      "2021-01-24 00:30:16,767 - INFO - wrapper - _add_day took 0:00:34.804822 shape=(6136480, 4) null_values=0)\n",
      "2021-01-24 00:30:17,686 - INFO - wrapper - _add_weekday took 0:00:00.517518 shape=(6136480, 5) null_values=0)\n",
      "2021-01-24 00:30:18,843 - INFO - wrapper - _get_total_roaming_distance_per_day_and_cab took 0:00:01.082805 shape=(11943, 4) null_values=0)\n",
      "2021-01-24 00:30:18,986 - INFO - wrapper - _get_roaming_distance_per_weekday_metrics took 0:00:00.006962 shape=(7, 5) null_values=0)\n"
     ]
    }
   ],
   "source": [
    "roaming_distance_weekday_metrics = get_roaming_distance_mean_per_weekday(cab_data)"
   ]
  },
  {
   "cell_type": "markdown",
   "metadata": {},
   "source": [
    "#### Emissions year 2020 - no replacement of cabs"
   ]
  },
  {
   "cell_type": "code",
   "execution_count": 6,
   "metadata": {},
   "outputs": [
    {
     "name": "stderr",
     "output_type": "stream",
     "text": [
      "2021-01-24 00:30:18,991 - INFO - wrapper - _year_days took 0:00:00 shape=(366, 1) null_values=0)\n",
      "2021-01-24 00:30:18,993 - INFO - wrapper - _add_weekday took 0:00:00.001000 shape=(366, 2) null_values=0)\n",
      "2021-01-24 00:30:18,996 - INFO - wrapper - add_month took 0:00:00.000996 shape=(366, 3) null_values=0)\n"
     ]
    }
   ],
   "source": [
    "# gets year days\n",
    "year = 2020\n",
    "year_days_2020 = get_year_days_df(year)"
   ]
  },
  {
   "cell_type": "code",
   "execution_count": 7,
   "metadata": {},
   "outputs": [],
   "source": [
    "# cab fleet calculation\n",
    "params_2020 = {'n_cabs': 537, 'n_months': 12, 'replacing_rate': 0}\n",
    "internal_combustion_cabs_per_month = get_internal_combustion_cabs_per_month(**params_2020)"
   ]
  },
  {
   "cell_type": "code",
   "execution_count": 8,
   "metadata": {},
   "outputs": [
    {
     "name": "stderr",
     "output_type": "stream",
     "text": [
      "2021-01-24 00:30:19,010 - INFO - wrapper - _merge_roaming_distances took 0:00:00.001999 shape=(366, 7) null_values=0)\n",
      "2021-01-24 00:30:19,014 - INFO - wrapper - _calculate_month_roam_distances took 0:00:00.001998 shape=(12, 5) null_values=0)\n",
      "2021-01-24 00:30:19,015 - INFO - wrapper - _add_internal_combustion_cabs_per_month took 0:00:00.001000 shape=(12, 6) null_values=0)\n",
      "2021-01-24 00:30:19,017 - INFO - wrapper - _calculate_total_fleet_roaming_distances_per_month took 0:00:00.000997 shape=(12, 3) null_values=0)\n"
     ]
    },
    {
     "data": {
      "text/plain": [
       "co2_ton              7750.591988\n",
       "upper_95_co2_ton    13770.748467\n",
       "lower_95_co2_ton     1730.435510\n",
       "dtype: float64"
      ]
     },
     "execution_count": 8,
     "metadata": {},
     "output_type": "execute_result"
    }
   ],
   "source": [
    "# anual emissions\n",
    "get_annual_co2_emissions(roaming_distance_weekday_metrics, year_days_2020, internal_combustion_cabs_per_month)"
   ]
  },
  {
   "cell_type": "markdown",
   "metadata": {},
   "source": [
    "#### Emissions year 2020"
   ]
  },
  {
   "cell_type": "code",
   "execution_count": 9,
   "metadata": {},
   "outputs": [
    {
     "name": "stderr",
     "output_type": "stream",
     "text": [
      "2021-01-24 00:30:19,028 - INFO - wrapper - _year_days took 0:00:00.001002 shape=(366, 1) null_values=0)\n",
      "2021-01-24 00:30:19,030 - INFO - wrapper - _add_weekday took 0:00:00 shape=(366, 2) null_values=0)\n",
      "2021-01-24 00:30:19,032 - INFO - wrapper - add_month took 0:00:00 shape=(366, 3) null_values=0)\n"
     ]
    }
   ],
   "source": [
    "# gets year days\n",
    "year = 2020\n",
    "year_days_2020 = get_year_days_df(year)"
   ]
  },
  {
   "cell_type": "code",
   "execution_count": 10,
   "metadata": {},
   "outputs": [],
   "source": [
    "# cab fleet calculation\n",
    "params_2020 = {'n_cabs': 537, 'n_months': 12, 'replacing_rate': 0.15}\n",
    "internal_combustion_cabs_per_month = get_internal_combustion_cabs_per_month(**params_2020)"
   ]
  },
  {
   "cell_type": "code",
   "execution_count": 11,
   "metadata": {},
   "outputs": [
    {
     "name": "stderr",
     "output_type": "stream",
     "text": [
      "2021-01-24 00:30:19,046 - INFO - wrapper - _merge_roaming_distances took 0:00:00.003002 shape=(366, 7) null_values=0)\n",
      "2021-01-24 00:30:19,049 - INFO - wrapper - _calculate_month_roam_distances took 0:00:00.001998 shape=(12, 5) null_values=0)\n",
      "2021-01-24 00:30:19,051 - INFO - wrapper - _add_internal_combustion_cabs_per_month took 0:00:00.001000 shape=(12, 6) null_values=0)\n",
      "2021-01-24 00:30:19,053 - INFO - wrapper - _calculate_total_fleet_roaming_distances_per_month took 0:00:00.001001 shape=(12, 3) null_values=0)\n"
     ]
    },
    {
     "data": {
      "text/plain": [
       "co2_ton             3658.545392\n",
       "upper_95_co2_ton    6499.389947\n",
       "lower_95_co2_ton     817.700836\n",
       "dtype: float64"
      ]
     },
     "execution_count": 11,
     "metadata": {},
     "output_type": "execute_result"
    }
   ],
   "source": [
    "# anual emissions\n",
    "get_annual_co2_emissions(roaming_distance_weekday_metrics, year_days_2020, internal_combustion_cabs_per_month)"
   ]
  },
  {
   "cell_type": "markdown",
   "metadata": {},
   "source": [
    "#### Emissions year 2021"
   ]
  },
  {
   "cell_type": "code",
   "execution_count": 12,
   "metadata": {},
   "outputs": [
    {
     "name": "stderr",
     "output_type": "stream",
     "text": [
      "2021-01-24 00:30:19,060 - INFO - wrapper - _year_days took 0:00:00 shape=(365, 1) null_values=0)\n",
      "2021-01-24 00:30:19,062 - INFO - wrapper - _add_weekday took 0:00:00 shape=(365, 2) null_values=0)\n",
      "2021-01-24 00:30:19,064 - INFO - wrapper - add_month took 0:00:00 shape=(365, 3) null_values=0)\n"
     ]
    }
   ],
   "source": [
    "# gets year days\n",
    "year = 2021\n",
    "year_days_2021 = get_year_days_df(year)"
   ]
  },
  {
   "cell_type": "code",
   "execution_count": 13,
   "metadata": {},
   "outputs": [],
   "source": [
    "# cab fleet calculation\n",
    "params_2021 = {'n_cabs': 87, 'n_months': 12, 'replacing_rate': 0.15}\n",
    "internal_combustion_cabs_per_month_2021 = get_internal_combustion_cabs_per_month(**params_2021)"
   ]
  },
  {
   "cell_type": "code",
   "execution_count": 14,
   "metadata": {},
   "outputs": [
    {
     "name": "stderr",
     "output_type": "stream",
     "text": [
      "2021-01-24 00:30:19,078 - INFO - wrapper - _merge_roaming_distances took 0:00:00.001999 shape=(365, 7) null_values=0)\n",
      "2021-01-24 00:30:19,082 - INFO - wrapper - _calculate_month_roam_distances took 0:00:00.002003 shape=(12, 5) null_values=0)\n",
      "2021-01-24 00:30:19,083 - INFO - wrapper - _add_internal_combustion_cabs_per_month took 0:00:00.001035 shape=(12, 6) null_values=0)\n",
      "2021-01-24 00:30:19,086 - INFO - wrapper - _calculate_total_fleet_roaming_distances_per_month took 0:00:00.000998 shape=(12, 3) null_values=0)\n"
     ]
    },
    {
     "data": {
      "text/plain": [
       "co2_ton              571.534599\n",
       "upper_95_co2_ton    1015.995930\n",
       "lower_95_co2_ton     127.073269\n",
       "dtype: float64"
      ]
     },
     "execution_count": 14,
     "metadata": {},
     "output_type": "execute_result"
    }
   ],
   "source": [
    "# anual emissions\n",
    "get_annual_co2_emissions(roaming_distance_weekday_metrics, year_days_2021, internal_combustion_cabs_per_month_2021)"
   ]
  },
  {
   "cell_type": "markdown",
   "metadata": {},
   "source": [
    "#### Emissions year 2022"
   ]
  },
  {
   "cell_type": "code",
   "execution_count": 15,
   "metadata": {},
   "outputs": [
    {
     "name": "stderr",
     "output_type": "stream",
     "text": [
      "2021-01-24 00:30:19,095 - INFO - wrapper - _year_days took 0:00:00 shape=(365, 1) null_values=0)\n",
      "2021-01-24 00:30:19,097 - INFO - wrapper - _add_weekday took 0:00:00.001002 shape=(365, 2) null_values=0)\n",
      "2021-01-24 00:30:19,099 - INFO - wrapper - add_month took 0:00:00.001002 shape=(365, 3) null_values=0)\n"
     ]
    }
   ],
   "source": [
    "# gets year days\n",
    "year = 2022\n",
    "year_days_2022 = get_year_days_df(year)"
   ]
  },
  {
   "cell_type": "code",
   "execution_count": 16,
   "metadata": {},
   "outputs": [],
   "source": [
    "# cab fleet calculation\n",
    "params_2022 = {'n_cabs': 12, 'n_months': 12, 'replacing_rate': 0.15}\n",
    "internal_combustion_cabs_per_month_2022 = get_internal_combustion_cabs_per_month(**params_2022)"
   ]
  },
  {
   "cell_type": "code",
   "execution_count": 17,
   "metadata": {},
   "outputs": [
    {
     "name": "stderr",
     "output_type": "stream",
     "text": [
      "2021-01-24 00:30:19,112 - INFO - wrapper - _merge_roaming_distances took 0:00:00.003018 shape=(365, 7) null_values=0)\n",
      "2021-01-24 00:30:19,115 - INFO - wrapper - _calculate_month_roam_distances took 0:00:00.002001 shape=(12, 5) null_values=0)\n",
      "2021-01-24 00:30:19,117 - INFO - wrapper - _add_internal_combustion_cabs_per_month took 0:00:00.001002 shape=(12, 6) null_values=0)\n",
      "2021-01-24 00:30:19,119 - INFO - wrapper - _calculate_total_fleet_roaming_distances_per_month took 0:00:00.001001 shape=(12, 3) null_values=0)\n"
     ]
    },
    {
     "data": {
      "text/plain": [
       "co2_ton              60.642930\n",
       "upper_95_co2_ton    107.846586\n",
       "lower_95_co2_ton     13.439274\n",
       "dtype: float64"
      ]
     },
     "execution_count": 17,
     "metadata": {},
     "output_type": "execute_result"
    }
   ],
   "source": [
    "# anual emissions\n",
    "get_annual_co2_emissions(roaming_distance_weekday_metrics, year_days_2022, internal_combustion_cabs_per_month_2022)"
   ]
  },
  {
   "cell_type": "markdown",
   "metadata": {},
   "source": [
    "# Data exploration"
   ]
  },
  {
   "cell_type": "markdown",
   "metadata": {},
   "source": [
    "#### Evaluate total roaming distances per day"
   ]
  },
  {
   "cell_type": "code",
   "execution_count": 6,
   "metadata": {},
   "outputs": [
    {
     "name": "stderr",
     "output_type": "stream",
     "text": [
      "2021-01-24 21:45:47,941 - INFO - wrapper - _select_columns took 0:00:00.175105 shape=(11086377, 4) null_values=0)\n",
      "2021-01-24 21:45:48,570 - INFO - wrapper - _select_vacant took 0:00:00.443844 shape=(6136480, 3) null_values=0)\n",
      "2021-01-24 21:46:19,481 - INFO - wrapper - _add_day took 0:00:30.502984 shape=(6136480, 4) null_values=0)\n",
      "2021-01-24 21:46:20,350 - INFO - wrapper - _add_weekday took 0:00:00.499001 shape=(6136480, 5) null_values=0)\n",
      "2021-01-24 21:46:21,440 - INFO - wrapper - _get_total_roaming_distance_per_day_and_cab took 0:00:01.008519 shape=(11943, 4) null_values=0)\n"
     ]
    }
   ],
   "source": [
    "# get total day distance per client and day\n",
    "total_roaming_distance_per_day_and_cab = (\n",
    "    cab_data\n",
    "    .pipe(_select_columns, ['occupancy', 'time', 'cab_id', 'distance'])\n",
    "    .pipe(_select_vacant)\n",
    "    .pipe(_add_day)\n",
    "    .pipe(_add_weekday)\n",
    "    .pipe(_get_total_roaming_distance_per_day_and_cab)\n",
    ")"
   ]
  },
  {
   "cell_type": "code",
   "execution_count": 19,
   "metadata": {},
   "outputs": [
    {
     "data": {
      "text/plain": [
       "array([[<AxesSubplot:title={'center':'day_roam_distance'}>]], dtype=object)"
      ]
     },
     "execution_count": 19,
     "metadata": {},
     "output_type": "execute_result"
    },
    {
     "data": {
      "image/png": "[encoded data removed]",
      "text/plain": [
       "<Figure size 432x288 with 1 Axes>"
      ]
     },
     "metadata": {
      "needs_background": "light"
     },
     "output_type": "display_data"
    }
   ],
   "source": [
    "# data is lightly right skewed\n",
    "total_roaming_distance_per_day_and_cab[['day_roam_distance']].hist(bins=50)"
   ]
  },
  {
   "cell_type": "code",
   "execution_count": 20,
   "metadata": {},
   "outputs": [
    {
     "name": "stdout",
     "output_type": "stream",
     "text": [
      "kurtosis:[0.20995863] and skewness:[0.08404303]\n"
     ]
    }
   ],
   "source": [
    "# kurtosis and skewness however, present good values so i'll not perform any treatment\n",
    "# fun fact is that there are a small peek at the 0 miles\n",
    "# are there a lot of cab drivers not working or cabs staying in maintenance\n",
    "kurtosis = kurtosis(total_roaming_distance_per_day_and_cab[['day_roam_distance']])\n",
    "skewness = skew(total_roaming_distance_per_day_and_cab[['day_roam_distance']])\n",
    "print(f'kurtosis:{kurtosis} and skewness:{skewness}')"
   ]
  },
  {
   "cell_type": "markdown",
   "metadata": {},
   "source": [
    "#### Evaluation of distance per week day"
   ]
  },
  {
   "cell_type": "code",
   "execution_count": 21,
   "metadata": {},
   "outputs": [
    {
     "data": {
      "text/plain": [
       "<AxesSubplot:xlabel='day_roam_distance', ylabel='Count'>"
      ]
     },
     "execution_count": 21,
     "metadata": {},
     "output_type": "execute_result"
    },
    {
     "data": {
      "image/png": "[encoded data removed]",
      "text/plain": [
       "<Figure size 432x288 with 1 Axes>"
      ]
     },
     "metadata": {
      "needs_background": "light"
     },
     "output_type": "display_data"
    }
   ],
   "source": [
    "# as expected diferent days of the week present diferent distributions\n",
    "# seems that at the end of the week (sathurday and sunday) the cabs have a lower distance without passengers\n",
    "sns.histplot(data=total_roaming_distance_per_day_and_cab, x=\"day_roam_distance\", hue=\"weekday\")"
   ]
  },
  {
   "cell_type": "code",
   "execution_count": 22,
   "metadata": {},
   "outputs": [
    {
     "name": "stderr",
     "output_type": "stream",
     "text": [
      "2021-01-24 00:30:57,672 - INFO - wrapper - _get_roaming_distance_per_weekday_metrics took 0:00:00.008495 shape=(7, 5) null_values=0)\n"
     ]
    },
    {
     "data": {
      "text/html": [
       "<div>\n",
       "<style scoped>\n",
       "    .dataframe tbody tr th:only-of-type {\n",
       "        vertical-align: middle;\n",
       "    }\n",
       "\n",
       "    .dataframe tbody tr th {\n",
       "        vertical-align: top;\n",
       "    }\n",
       "\n",
       "    .dataframe thead th {\n",
       "        text-align: right;\n",
       "    }\n",
       "</style>\n",
       "<table border=\"1\" class=\"dataframe\">\n",
       "  <thead>\n",
       "    <tr style=\"text-align: right;\">\n",
       "      <th></th>\n",
       "      <th>weekday</th>\n",
       "      <th>mean_distance</th>\n",
       "      <th>std_distance</th>\n",
       "      <th>upper_95_distance</th>\n",
       "      <th>lower_95_distance</th>\n",
       "    </tr>\n",
       "  </thead>\n",
       "  <tbody>\n",
       "    <tr>\n",
       "      <th>0</th>\n",
       "      <td>0</td>\n",
       "      <td>97.948043</td>\n",
       "      <td>41.758839</td>\n",
       "      <td>181.465720</td>\n",
       "      <td>14.430366</td>\n",
       "    </tr>\n",
       "    <tr>\n",
       "      <th>1</th>\n",
       "      <td>1</td>\n",
       "      <td>100.931933</td>\n",
       "      <td>39.393397</td>\n",
       "      <td>179.718727</td>\n",
       "      <td>22.145139</td>\n",
       "    </tr>\n",
       "    <tr>\n",
       "      <th>2</th>\n",
       "      <td>2</td>\n",
       "      <td>104.161135</td>\n",
       "      <td>36.462167</td>\n",
       "      <td>177.085469</td>\n",
       "      <td>31.236801</td>\n",
       "    </tr>\n",
       "    <tr>\n",
       "      <th>3</th>\n",
       "      <td>3</td>\n",
       "      <td>102.553846</td>\n",
       "      <td>34.932362</td>\n",
       "      <td>172.418571</td>\n",
       "      <td>32.689121</td>\n",
       "    </tr>\n",
       "    <tr>\n",
       "      <th>4</th>\n",
       "      <td>4</td>\n",
       "      <td>103.769195</td>\n",
       "      <td>37.601867</td>\n",
       "      <td>178.972928</td>\n",
       "      <td>28.565462</td>\n",
       "    </tr>\n",
       "    <tr>\n",
       "      <th>5</th>\n",
       "      <td>5</td>\n",
       "      <td>85.086229</td>\n",
       "      <td>38.219946</td>\n",
       "      <td>161.526121</td>\n",
       "      <td>8.646337</td>\n",
       "    </tr>\n",
       "    <tr>\n",
       "      <th>6</th>\n",
       "      <td>6</td>\n",
       "      <td>88.604616</td>\n",
       "      <td>37.078703</td>\n",
       "      <td>162.762021</td>\n",
       "      <td>14.447211</td>\n",
       "    </tr>\n",
       "  </tbody>\n",
       "</table>\n",
       "</div>"
      ],
      "text/plain": [
       "   weekday  mean_distance  std_distance  upper_95_distance  lower_95_distance\n",
       "0        0      97.948043     41.758839         181.465720          14.430366\n",
       "1        1     100.931933     39.393397         179.718727          22.145139\n",
       "2        2     104.161135     36.462167         177.085469          31.236801\n",
       "3        3     102.553846     34.932362         172.418571          32.689121\n",
       "4        4     103.769195     37.601867         178.972928          28.565462\n",
       "5        5      85.086229     38.219946         161.526121           8.646337\n",
       "6        6      88.604616     37.078703         162.762021          14.447211"
      ]
     },
     "execution_count": 22,
     "metadata": {},
     "output_type": "execute_result"
    }
   ],
   "source": [
    "# roaming distances per weekday metrics\n",
    "distance_roaming_weekday_metrics = _get_roaming_distance_per_weekday_metrics(total_roaming_distance_per_day_and_cab)\n",
    "distance_roaming_weekday_metrics"
   ]
  },
  {
   "cell_type": "markdown",
   "metadata": {},
   "source": [
    "#### Distance per month"
   ]
  },
  {
   "cell_type": "code",
   "execution_count": 23,
   "metadata": {},
   "outputs": [
    {
     "name": "stderr",
     "output_type": "stream",
     "text": [
      "2021-01-24 00:30:57,689 - INFO - wrapper - _year_days took 0:00:00 shape=(366, 1) null_values=0)\n",
      "2021-01-24 00:30:57,692 - INFO - wrapper - _add_weekday took 0:00:00.000994 shape=(366, 2) null_values=0)\n",
      "2021-01-24 00:30:57,695 - INFO - wrapper - add_month took 0:00:00.001013 shape=(366, 3) null_values=0)\n"
     ]
    }
   ],
   "source": [
    "# list of days in the year 2020\n",
    "year = 2020\n",
    "year_days_w_weekdays = get_year_days_df(year)"
   ]
  },
  {
   "cell_type": "code",
   "execution_count": 24,
   "metadata": {},
   "outputs": [],
   "source": [
    "# merges with the distance mean, std, and upper and lower limits\n",
    "year_days_w_distance = year_days_w_weekdays.merge(distance_roaming_weekday_metrics, left_on='weekday', right_on='weekday', how='left')"
   ]
  },
  {
   "cell_type": "code",
   "execution_count": 25,
   "metadata": {},
   "outputs": [],
   "source": [
    "# gets roaming distance per month for a single cab\n",
    "cab_roaming_distance_per_month = year_days_w_distance.groupby('month').sum().drop(columns='weekday')"
   ]
  },
  {
   "cell_type": "code",
   "execution_count": 26,
   "metadata": {},
   "outputs": [],
   "source": [
    "# number of cabs for each year\n",
    "params = {'n_cabs': 537, 'n_months': 12, 'replacing_rate': 0.15}\n",
    "n_cabs_per_month = get_internal_combustion_cabs_per_month(**params)"
   ]
  },
  {
   "cell_type": "code",
   "execution_count": 27,
   "metadata": {},
   "outputs": [],
   "source": [
    "# adds the number of cabs in the fleet per month\n",
    "cab_roaming_distance_per_month = cab_roaming_distance_per_month.assign(n_cabs = n_cabs_per_month)"
   ]
  },
  {
   "cell_type": "code",
   "execution_count": 28,
   "metadata": {},
   "outputs": [],
   "source": [
    "# gets the total fleet roaming distanaces per month\n",
    "total_roaming_distance_per_month = cab_roaming_distance_per_month[['mean_distance', 'upper_95_distance', 'lower_95_distance']].mul(cab_roaming_distance_per_month['n_cabs'], axis=0)"
   ]
  },
  {
   "cell_type": "code",
   "execution_count": 29,
   "metadata": {},
   "outputs": [
    {
     "data": {
      "text/plain": [
       "mean_distance        3658.545392\n",
       "upper_95_distance    6499.389947\n",
       "lower_95_distance     817.700836\n",
       "dtype: float64"
      ]
     },
     "execution_count": 29,
     "metadata": {},
     "output_type": "execute_result"
    }
   ],
   "source": [
    "# total emissions in tons for the cab fleet in a year (assuming fleet replacement)\n",
    "total_roaming_distance_per_month.sum()*404/1000000"
   ]
  }
 ],
 "metadata": {
  "kernelspec": {
   "display_name": "Python 3",
   "language": "python",
   "name": "python3"
  },
  "language_info": {
   "codemirror_mode": {
    "name": "ipython",
    "version": 3
   },
   "file_extension": ".py",
   "mimetype": "text/x-python",
   "name": "python",
   "nbconvert_exporter": "python",
   "pygments_lexer": "ipython3",
   "version": "3.8.6"
  }
 },
 "nbformat": 4,
 "nbformat_minor": 4
}
